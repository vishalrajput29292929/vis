{
 "cells": [
  {
   "cell_type": "code",
   "execution_count": 1,
   "id": "2e3af80f-689b-4009-a0c0-1a57c407e5fe",
   "metadata": {},
   "outputs": [],
   "source": [
    "# 1 Write a Python program to print numbers from 1 to 10 using a for loop."
   ]
  },
  {
   "cell_type": "code",
   "execution_count": 2,
   "id": "49672b5c-a074-4a07-bf51-88ce1e4858ef",
   "metadata": {},
   "outputs": [
    {
     "name": "stdout",
     "output_type": "stream",
     "text": [
      "0\n",
      "1\n",
      "2\n",
      "3\n",
      "4\n",
      "5\n",
      "6\n",
      "7\n",
      "8\n",
      "9\n"
     ]
    }
   ],
   "source": [
    "for i in range(10):\n",
    "    print(i)"
   ]
  },
  {
   "cell_type": "code",
   "execution_count": 3,
   "id": "811415e1-6042-4749-8089-32fb4b0f4da1",
   "metadata": {},
   "outputs": [],
   "source": [
    "#2. Explain the difference between a for loop and a while loop in Python.\n"
   ]
  },
  {
   "cell_type": "code",
   "execution_count": 4,
   "id": "0be26542-ccac-417a-80ef-8b9122a8838a",
   "metadata": {},
   "outputs": [],
   "source": [
    " # 3. Write a Python program to calculate the sum of all numbers from 1 to 100 using a for loop.\n"
   ]
  },
  {
   "cell_type": "code",
   "execution_count": 5,
   "id": "bd603ac2-6d6f-4db2-90ae-5786e4bdfbbf",
   "metadata": {},
   "outputs": [
    {
     "name": "stdout",
     "output_type": "stream",
     "text": [
      "5050\n"
     ]
    }
   ],
   "source": [
    "sum = 0\n",
    "for i in range(1, 101):\n",
    "    sum = sum + i\n",
    "print(sum)\n",
    "    "
   ]
  },
  {
   "cell_type": "code",
   "execution_count": 6,
   "id": "71552774-4d01-4872-8d76-b3f1a1c2d99c",
   "metadata": {},
   "outputs": [],
   "source": [
    "#4 . How do you iterate through a list using a for loop in Python?\n"
   ]
  },
  {
   "cell_type": "code",
   "execution_count": 7,
   "id": "db8266a5-a6bf-4e0a-bd36-9aaf3a18e7ed",
   "metadata": {},
   "outputs": [
    {
     "name": "stdout",
     "output_type": "stream",
     "text": [
      "[0]\n",
      "[1]\n",
      "[2]\n",
      "[3]\n",
      "[4]\n"
     ]
    }
   ],
   "source": [
    "for i in range(5):\n",
    "    l = []\n",
    "    print([i])\n",
    "    \n",
    "    "
   ]
  },
  {
   "cell_type": "code",
   "execution_count": 8,
   "id": "1bc62b4f-3d9c-4aa6-ac1f-adb69590daf3",
   "metadata": {},
   "outputs": [],
   "source": [
    "#5Write a Python program to find the product of all elements in a list using a for loop."
   ]
  },
  {
   "cell_type": "code",
   "execution_count": null,
   "id": "a1cab697-132b-4ff6-b35a-828d565a769f",
   "metadata": {},
   "outputs": [],
   "source": []
  },
  {
   "cell_type": "code",
   "execution_count": 9,
   "id": "2c506092-143a-452a-b545-b67e759241e0",
   "metadata": {},
   "outputs": [
    {
     "data": {
      "text/plain": [
       "6"
      ]
     },
     "execution_count": 9,
     "metadata": {},
     "output_type": "execute_result"
    }
   ],
   "source": [
    "l = [1,2,3]\n",
    "result = 1\n",
    "for i in l:\n",
    "    result = result * i\n",
    "result\n",
    "        \n",
    "\n"
   ]
  },
  {
   "cell_type": "code",
   "execution_count": 10,
   "id": "f2be0ef1-a96b-4747-adef-b1b366df28bb",
   "metadata": {},
   "outputs": [],
   "source": [
    "#6 Create a Python program that prints all even numbers from 1 to 20 using a for loop.\n"
   ]
  },
  {
   "cell_type": "code",
   "execution_count": 11,
   "id": "8a318f83-839e-43bd-883f-59c8b699d774",
   "metadata": {},
   "outputs": [],
   "source": [
    "l1 = []\n",
    "for i in range(1,20):\n",
    "    if i%2 == 0:\n",
    "        l1.append(i)"
   ]
  },
  {
   "cell_type": "code",
   "execution_count": 12,
   "id": "c486a8eb-d67a-4cc8-926b-c2fea1819819",
   "metadata": {},
   "outputs": [
    {
     "data": {
      "text/plain": [
       "[2, 4, 6, 8, 10, 12, 14, 16, 18]"
      ]
     },
     "execution_count": 12,
     "metadata": {},
     "output_type": "execute_result"
    }
   ],
   "source": [
    "l1"
   ]
  },
  {
   "cell_type": "code",
   "execution_count": 13,
   "id": "4d5f08dd-a17b-4f42-9335-8b3723f9c129",
   "metadata": {},
   "outputs": [],
   "source": [
    "# 7 Write a Python program that calculates the factorial of a number using a for loop.\n"
   ]
  },
  {
   "cell_type": "code",
   "execution_count": 14,
   "id": "4002199b-b69e-48f6-9f13-c11013038616",
   "metadata": {},
   "outputs": [
    {
     "name": "stdin",
     "output_type": "stream",
     "text": [
      "Enter a number:  4\n"
     ]
    },
    {
     "name": "stdout",
     "output_type": "stream",
     "text": [
      "Factorial of the given number is:  24\n"
     ]
    }
   ],
   "source": [
    "n = int (input (\"Enter a number: \"))\n",
    "factorial = 1\n",
    "if n >= 1:\n",
    "    for i in range (1, n+1):\n",
    "        factorial=factorial *i\n",
    "print(\"Factorial of the given number is: \", factorial)"
   ]
  },
  {
   "cell_type": "code",
   "execution_count": 15,
   "id": "37522b2d-13a2-4ea7-aceb-1f80a51536a5",
   "metadata": {},
   "outputs": [],
   "source": [
    "# 8 How can you iterate through the characters of a string using a for loop in Python?\n"
   ]
  },
  {
   "cell_type": "code",
   "execution_count": 16,
   "id": "fdd9bb5e-6ef8-4438-bb75-b2c64bb4e19f",
   "metadata": {},
   "outputs": [
    {
     "name": "stdout",
     "output_type": "stream",
     "text": [
      "v\n",
      "i\n",
      "s\n",
      "h\n",
      "a\n",
      "l\n"
     ]
    }
   ],
   "source": [
    "s = 'vishal'\n",
    "for i in s :\n",
    "    print(i)"
   ]
  },
  {
   "cell_type": "code",
   "execution_count": 17,
   "id": "130d0faf-6df4-45e9-8890-21a5a58ff0b5",
   "metadata": {},
   "outputs": [],
   "source": [
    "#9Write a Python program to find the largest number in a list using a for loop."
   ]
  },
  {
   "cell_type": "code",
   "execution_count": 18,
   "id": "f31ed432-8151-4ac7-b582-ef51d2ea204c",
   "metadata": {},
   "outputs": [
    {
     "name": "stdout",
     "output_type": "stream",
     "text": [
      "Greatest number:  3\n"
     ]
    }
   ],
   "source": [
    "numbers = [1, 2, 3]\n",
    "maxi = numbers[0]\n",
    "\n",
    "for i in numbers:\n",
    "    if i > maxi:\n",
    "        maxi = i\n",
    "        \n",
    "print(\"Greatest number: \", maxi)\n",
    "    "
   ]
  },
  {
   "cell_type": "code",
   "execution_count": 19,
   "id": "2a9a587b-27a3-4d95-a35f-ddd438e4035f",
   "metadata": {},
   "outputs": [],
   "source": [
    "#10 Create a Python program that prints the Fibonacci sequence up to a specified limit using a for loop.\n"
   ]
  },
  {
   "cell_type": "code",
   "execution_count": 20,
   "id": "8294bc14-a4e2-4183-a8a3-2bc4c476ce83",
   "metadata": {},
   "outputs": [
    {
     "name": "stdout",
     "output_type": "stream",
     "text": [
      "0\n",
      "1\n",
      "1\n",
      "2\n",
      "3\n",
      "5\n",
      "8\n",
      "13\n",
      "21\n",
      "34\n"
     ]
    }
   ],
   "source": [
    "\n",
    "a,b = 0,1\n",
    "for i in range(10):\n",
    "    print(a)\n",
    "    c = a+b\n",
    "    a = b\n",
    "    b = c\n",
    "    \n",
    "    \n",
    "    "
   ]
  },
  {
   "cell_type": "code",
   "execution_count": 21,
   "id": "c07ff9ee-1149-474b-a34e-ed44a6a230a3",
   "metadata": {},
   "outputs": [],
   "source": [
    "#11 Write a Python program to count the number of vowels in a given string using a for loop.\n"
   ]
  },
  {
   "cell_type": "code",
   "execution_count": 22,
   "id": "4c890606-5877-4887-902e-b5f7cb25f253",
   "metadata": {},
   "outputs": [
    {
     "name": "stdout",
     "output_type": "stream",
     "text": [
      "No. of vowels : 2\n"
     ]
    }
   ],
   "source": [
    "def vowel_count(str):\n",
    "     \n",
    "    \n",
    "    count = 0\n",
    "     \n",
    "    \n",
    "    vowel = set(\"aeiouAEIOU\")\n",
    "     \n",
    "    \n",
    "    for alphabet in str:\n",
    "     \n",
    "    \n",
    "        if alphabet in vowel:\n",
    "            count = count + 1\n",
    "     \n",
    "    print(\"No. of vowels :\", count)\n",
    "     \n",
    "str = \"vishal\"\n",
    " \n",
    "\n",
    "vowel_count(str)"
   ]
  },
  {
   "cell_type": "code",
   "execution_count": 23,
   "id": "6409d4a1-a1e5-4ef0-99f1-82cca0cf18a8",
   "metadata": {},
   "outputs": [],
   "source": [
    "#12 Create a Python program that generates a multiplication table for a given number using a for loop.\n"
   ]
  },
  {
   "cell_type": "code",
   "execution_count": 24,
   "id": "6affd92e-ee4d-43df-add7-32eedbc1f8c7",
   "metadata": {},
   "outputs": [
    {
     "name": "stdout",
     "output_type": "stream",
     "text": [
      "1 2 3 4 5 \n",
      "2 4 6 8 10 \n",
      "3 6 9 12 15 \n",
      "4 8 12 16 20 \n",
      "5 10 15 20 25 \n"
     ]
    }
   ],
   "source": [
    "for i in range(1,6): \n",
    "    for j in range(1,6):\n",
    "        print(i*j,end=' ')\n",
    "    print()"
   ]
  },
  {
   "cell_type": "code",
   "execution_count": 25,
   "id": "00ceed72-bcb3-47b0-9862-c34917bf4063",
   "metadata": {},
   "outputs": [],
   "source": [
    "#13Write a Python program to reverse a list using a for loop.\n"
   ]
  },
  {
   "cell_type": "code",
   "execution_count": 26,
   "id": "b174e264-8f17-4828-8f63-741621ca6a47",
   "metadata": {},
   "outputs": [
    {
     "name": "stdout",
     "output_type": "stream",
     "text": [
      "4\n",
      "3\n",
      "2\n",
      "1\n"
     ]
    }
   ],
   "source": [
    "l3 = [1,2,3,4]\n",
    "for i in range(len(l3)-1,-1,-1):\n",
    "    print(l3[i])\n"
   ]
  },
  {
   "cell_type": "code",
   "execution_count": 27,
   "id": "0d28ec25-394f-4e35-bbbe-33f2f5f23ce9",
   "metadata": {},
   "outputs": [],
   "source": [
    "#14Write a Python program to find the common elements between two lists using a for loop.\n"
   ]
  },
  {
   "cell_type": "code",
   "execution_count": 28,
   "id": "c85642e4-a1c0-4c6e-94ff-26eb94b2833b",
   "metadata": {},
   "outputs": [
    {
     "name": "stdout",
     "output_type": "stream",
     "text": [
      "3\n"
     ]
    }
   ],
   "source": [
    "l1 = [1,2,3]\n",
    "l2 = [3,4,5]\n",
    "for i in l1:\n",
    "    for j in l2:\n",
    "        if i == j:\n",
    "            print(i)"
   ]
  },
  {
   "cell_type": "code",
   "execution_count": 29,
   "id": "81f42744-d2b2-4fb7-b7da-e431b43a6071",
   "metadata": {},
   "outputs": [],
   "source": [
    "#15Explain how to use a for loop to iterate through the keys and values of a dictionary in Python.\n"
   ]
  },
  {
   "cell_type": "code",
   "execution_count": 30,
   "id": "bc9f58e0-8ae7-4922-bda9-b6ff3ff41d2f",
   "metadata": {},
   "outputs": [
    {
     "name": "stdout",
     "output_type": "stream",
     "text": [
      "('name', 'vishal')\n",
      "('class', 'python')\n"
     ]
    }
   ],
   "source": [
    "d = {'name': 'vishal', 'class' : 'python'}\n",
    "for i in d.items():\n",
    "    print(i)"
   ]
  },
  {
   "cell_type": "code",
   "execution_count": 31,
   "id": "0605646e-15cc-4a99-80ab-9e544ab96588",
   "metadata": {},
   "outputs": [],
   "source": [
    "#16 Write a Python program to find the GCD (Greatest Common Divisor) of two numbers using a for loop.\n"
   ]
  },
  {
   "cell_type": "code",
   "execution_count": 32,
   "id": "7f34bf40-0692-47c0-8fef-e44f3a5db75f",
   "metadata": {},
   "outputs": [
    {
     "name": "stdout",
     "output_type": "stream",
     "text": [
      "GCD of 20 and 40 is: 20\n"
     ]
    }
   ],
   "source": [
    "x = 40\n",
    "y = 20\n",
    "if x > y:\n",
    "  x, y = y, x\n",
    "for i in range(1,x+1):\n",
    "  if x%i == 0 and y%i == 0:\n",
    "    gcd = i\n",
    "\n",
    "print(\"GCD of\", x, \"and\", y, \"is:\", gcd)"
   ]
  },
  {
   "cell_type": "code",
   "execution_count": 33,
   "id": "75f39490-b680-4eca-878d-a4e9131db8af",
   "metadata": {},
   "outputs": [],
   "source": [
    "#17 Create a Python program that checks if a string is a palindrome using a for loop.\n"
   ]
  },
  {
   "cell_type": "code",
   "execution_count": null,
   "id": "11bc4e5b-2db9-4485-8c88-5a19038db752",
   "metadata": {},
   "outputs": [],
   "source": [
    "#18 Write a Python program to remove duplicates from a list using a for loop.\n"
   ]
  },
  {
   "cell_type": "code",
   "execution_count": 39,
   "id": "c58bd199-1ec1-4770-ad53-efc1d8ea786e",
   "metadata": {},
   "outputs": [
    {
     "name": "stdout",
     "output_type": "stream",
     "text": [
      "[5, 8, 52, 87]\n"
     ]
    }
   ],
   "source": [
    "mylist = [21, 5, 8, 52, 21, 87]\n",
    "r_item = 21\n",
    "\n",
    "#remove the item for all its occurrences\n",
    "for item in mylist:\n",
    "\tif(item==r_item):\n",
    "\t\tmylist.remove(r_item)\n",
    "\n",
    "print(mylist)"
   ]
  },
  {
   "cell_type": "code",
   "execution_count": null,
   "id": "b6223a35-04d7-41e2-99bc-87c6f786aafd",
   "metadata": {},
   "outputs": [],
   "source": [
    "#19 Create a Python program that counts the number of words in a sentence using a for loop.\n"
   ]
  },
  {
   "cell_type": "code",
   "execution_count": 40,
   "id": "0790985b-3d2c-404d-92f1-5fe1eef84466",
   "metadata": {},
   "outputs": [
    {
     "name": "stdin",
     "output_type": "stream",
     "text": [
      "Please Enter your Own String :  tftfut\n"
     ]
    },
    {
     "name": "stdout",
     "output_type": "stream",
     "text": [
      "Total Number of Words in this String =  1\n"
     ]
    }
   ],
   "source": [
    "str1 = input(\"Please Enter your Own String : \")\n",
    "total = 1\n",
    "\n",
    "for i in range(len(str1)):\n",
    "    if(str1[i] == ' ' or str1 == '\\n' or str1 == '\\t'):\n",
    "        total = total + 1\n",
    "\n",
    "print(\"Total Number of Words in this String = \", total)"
   ]
  },
  {
   "cell_type": "code",
   "execution_count": null,
   "id": "c7f7845f-9c33-4605-a160-04af6a068750",
   "metadata": {},
   "outputs": [],
   "source": [
    "#20 Write a Python program to find the sum of all odd numbers from 1 to 50 using a for loop.\n"
   ]
  },
  {
   "cell_type": "code",
   "execution_count": 12,
   "id": "5aca2dc7-599e-4c60-b883-f5574a1e0eff",
   "metadata": {},
   "outputs": [
    {
     "data": {
      "text/plain": [
       "626"
      ]
     },
     "execution_count": 12,
     "metadata": {},
     "output_type": "execute_result"
    }
   ],
   "source": [
    "sum = 1\n",
    "for i in range(1,51):\n",
    "    if i%2 != 0:\n",
    "        sum = sum +i\n",
    "        \n",
    "sum\n"
   ]
  },
  {
   "cell_type": "code",
   "execution_count": null,
   "id": "b7aa7e38-0e86-4b71-897b-cd4baa26a982",
   "metadata": {},
   "outputs": [],
   "source": []
  },
  {
   "cell_type": "code",
   "execution_count": 42,
   "id": "6683cd00-1c95-4dc6-b08c-215ccb312c6f",
   "metadata": {},
   "outputs": [],
   "source": [
    "#21 Write a Python program that checks if a given year is a leap year using a for loop.\n"
   ]
  },
  {
   "cell_type": "code",
   "execution_count": 44,
   "id": "6cf938b8-a576-41a4-ad23-66357752ee5f",
   "metadata": {},
   "outputs": [],
   "source": [
    "#22 Create a Python program that calculates the square root of a number using a for loop.\n"
   ]
  },
  {
   "cell_type": "code",
   "execution_count": 43,
   "id": "e9403e43-9a7d-4ec2-8de2-7d042d44f9f5",
   "metadata": {},
   "outputs": [
    {
     "name": "stdout",
     "output_type": "stream",
     "text": [
      "year is leap year\n",
      "year is leap year\n",
      "year is leap year\n",
      "year is leap year\n",
      "year is leap year\n"
     ]
    }
   ],
   "source": [
    "year = 2000\n",
    "for i in range(year):\n",
    "    if(i%4 ==0 and i%100== 0 and i%400==0):\n",
    "        print('year is leap year')\n",
    "        \n",
    "       "
   ]
  },
  {
   "cell_type": "code",
   "execution_count": 3,
   "id": "87b4d16a-4113-4be1-94bd-69a15491aba3",
   "metadata": {},
   "outputs": [
    {
     "name": "stdout",
     "output_type": "stream",
     "text": [
      "Quadratic function : (a * x^2) + b*x + c\n"
     ]
    },
    {
     "name": "stdin",
     "output_type": "stream",
     "text": [
      "enter the value of a 1\n",
      "enter the value of b 2\n",
      "enter the value of c  3\n"
     ]
    },
    {
     "name": "stdout",
     "output_type": "stream",
     "text": [
      "no root of quadratic eqaution\n"
     ]
    }
   ],
   "source": [
    "    print(\"Quadratic function : (a * x^2) + b*x + c\")\n",
    "    a = float(input('enter the value of a'))\n",
    "    b = float(input('enter the value of b'))\n",
    "    c = float(input('enter the value of c '))\n",
    "\n",
    "    r = (b**2 - 4*a*c)\n",
    "\n",
    "    if (r > 0):\n",
    "        num_roots == 2\n",
    "        x1 = ((( -b ) + sqrt(r) ) / 2*a ) \n",
    "        x2 = ((( -b ) -  sqrt(r) ) / 2*a )\n",
    "        print('the two root of quadratic equation' , x1 and x2)\n",
    "    elif (r == 0) :\n",
    "        num_roots = 1\n",
    "        x = ( -b) / 2*a\n",
    "        print('the one root of quadratic equation', x )\n",
    "    else:\n",
    "        num_roots = 0\n",
    "        print('no root of quadratic eqaution')\n",
    "        "
   ]
  },
  {
   "cell_type": "code",
   "execution_count": null,
   "id": "58b28a81-2a20-40be-94c3-eaf1d0b9165c",
   "metadata": {},
   "outputs": [],
   "source": []
  },
  {
   "cell_type": "code",
   "execution_count": 4,
   "id": "0afc1d8d-a559-4adc-8bfd-4af4833bfac7",
   "metadata": {},
   "outputs": [],
   "source": [
    "#1 Write a Python program to check if a number is positive, negative, or zero using an if-else statement.\n",
    "\n"
   ]
  },
  {
   "cell_type": "code",
   "execution_count": 5,
   "id": "7024a239-19ad-41c4-aa7c-41f36ec3e7ad",
   "metadata": {},
   "outputs": [
    {
     "name": "stdin",
     "output_type": "stream",
     "text": [
      "enter the number 6\n"
     ]
    },
    {
     "name": "stdout",
     "output_type": "stream",
     "text": [
      "number is positive\n"
     ]
    }
   ],
   "source": [
    "num = int(input('enter the number'))\n",
    "if num<0 :\n",
    "    print('number is negatve') \n",
    "elif num>0:\n",
    "    print('number is positive')\n",
    "else :\n",
    "    print('number is zero')"
   ]
  },
  {
   "cell_type": "code",
   "execution_count": 6,
   "id": "034fe89d-983f-4d64-8127-b4a96c38ed8f",
   "metadata": {},
   "outputs": [],
   "source": [
    "#2Create a Python program that checks if a given number is even or odd using an if-else statement."
   ]
  },
  {
   "cell_type": "code",
   "execution_count": 8,
   "id": "950c8a0c-8dab-4952-aaae-4a338f8ac45f",
   "metadata": {},
   "outputs": [
    {
     "name": "stdin",
     "output_type": "stream",
     "text": [
      "enter the number 5\n"
     ]
    },
    {
     "name": "stdout",
     "output_type": "stream",
     "text": [
      "the given number is odd number\n"
     ]
    }
   ],
   "source": [
    "num = int(input('enter the number'))\n",
    "if num %2 == 0:\n",
    "    print('the given number is even number')\n",
    "else:\n",
    "    print('the given number is odd number')"
   ]
  },
  {
   "cell_type": "code",
   "execution_count": 9,
   "id": "9d89b905-4851-4391-bcf2-cf6d2ffb2b29",
   "metadata": {},
   "outputs": [],
   "source": [
    "#3.How can you use nested if-else statements in Python, and provide an example?\n"
   ]
  },
  {
   "cell_type": "code",
   "execution_count": 10,
   "id": "e14989e8-4b5b-4c1e-b092-8fdd941e1ce7",
   "metadata": {},
   "outputs": [
    {
     "name": "stdin",
     "output_type": "stream",
     "text": [
      "enter the number 6\n"
     ]
    },
    {
     "name": "stdout",
     "output_type": "stream",
     "text": [
      "grade is f\n",
      "grade is a+\n"
     ]
    }
   ],
   "source": [
    "num = int(input('enter the number'))\n",
    "if 0<=num<=32:\n",
    "    print('grade is f')\n",
    "if 33<=num<=90:\n",
    "    print('grade is a')\n",
    "else :\n",
    "    print('grade is a+')\n",
    "    "
   ]
  },
  {
   "cell_type": "code",
   "execution_count": 11,
   "id": "c7b325f4-be98-4a21-87b9-252ee62bbc93",
   "metadata": {},
   "outputs": [],
   "source": [
    "#4Write a Python program to determine the largest of three numbers using if-else.\n"
   ]
  },
  {
   "cell_type": "code",
   "execution_count": 13,
   "id": "31fe7d41-25dc-45e3-a702-1cddb97bf7d9",
   "metadata": {},
   "outputs": [
    {
     "name": "stdin",
     "output_type": "stream",
     "text": [
      "enter the first number 1\n",
      "enter the second number 2\n",
      "enter the third number 3\n"
     ]
    },
    {
     "name": "stdout",
     "output_type": "stream",
     "text": [
      "largest number is num3\n"
     ]
    }
   ],
   "source": [
    "num1 = input('enter the first number')\n",
    "num2 = input('enter the second number')\n",
    "num3 = input('enter the third number')\n",
    "if num1>num2 and num1>num3:\n",
    "    print('largest number is num 1')\n",
    "elif num2>num1 and num2>num3:\n",
    "    print('largest number is num 2')\n",
    "elif num3>num1 and num3>num2:\n",
    "    print('largest number is num3')\n",
    "    "
   ]
  },
  {
   "cell_type": "code",
   "execution_count": 14,
   "id": "d2b0552f-217f-47d8-98d3-bfea4f5d3929",
   "metadata": {},
   "outputs": [],
   "source": [
    "#5Write a Python program that calculates the absolute value of a number using if-else.\n"
   ]
  },
  {
   "cell_type": "code",
   "execution_count": 15,
   "id": "9177a293-4b22-4b28-a6ef-cb1da5ef3b76",
   "metadata": {},
   "outputs": [],
   "source": [
    "#6 Create a Python program that checks if a given character is a vowel or consonant using if-else.\n"
   ]
  },
  {
   "cell_type": "code",
   "execution_count": 16,
   "id": "8ab3e088-0640-47f8-bdc8-a3d49cef6345",
   "metadata": {},
   "outputs": [
    {
     "name": "stdin",
     "output_type": "stream",
     "text": [
      "enter an character fffufvcuy\n"
     ]
    },
    {
     "name": "stdout",
     "output_type": "stream",
     "text": [
      "fffufvcuy is a consonant\n"
     ]
    }
   ],
   "source": [
    "c = input('enter an character')\n",
    "\n",
    "# checking for vowels\n",
    "if c == 'a' or c == 'e' or c == 'i' or c == 'o' or c == 'u' or c == 'A' or c == 'E' or c == 'I' or c == 'O' or c == 'U':\n",
    "    print(c, \"is a vowel\")  # condition true input is vowel\n",
    "else:\n",
    "    print(c, \"is a consonant\")  # condition true input is consonant\n"
   ]
  },
  {
   "cell_type": "code",
   "execution_count": 17,
   "id": "22324266-982e-49d1-a5ed-5c1b739fdae6",
   "metadata": {},
   "outputs": [],
   "source": [
    "#7 Write a Python program to determine if a user is eligible to vote based on their age using if-else.\n"
   ]
  },
  {
   "cell_type": "code",
   "execution_count": 2,
   "id": "58056a8d-491f-4984-bbb9-2417da20ce01",
   "metadata": {},
   "outputs": [
    {
     "name": "stdin",
     "output_type": "stream",
     "text": [
      "Enter age :  66\n"
     ]
    },
    {
     "name": "stdout",
     "output_type": "stream",
     "text": [
      "Eligible for Voting!\n"
     ]
    }
   ],
   "source": [
    "age = int(input(\"Enter age : \"))\n",
    "\n",
    "if age >= 18:\n",
    "    print(\"Eligible for Voting!\")\n",
    "else:\n",
    "    print(\"Not Eligible for Voting!\")"
   ]
  },
  {
   "cell_type": "code",
   "execution_count": 3,
   "id": "810a14d7-340f-4c29-a3e1-c8e832025f07",
   "metadata": {},
   "outputs": [],
   "source": [
    "#8 Create a Python program that calculates the discount amount based on the purchase amount using if-else.\n"
   ]
  },
  {
   "cell_type": "code",
   "execution_count": 1,
   "id": "786b4b20-ed80-4a51-a49a-515fa945c8f8",
   "metadata": {},
   "outputs": [
    {
     "name": "stdin",
     "output_type": "stream",
     "text": [
      " enter an amount 765\n"
     ]
    },
    {
     "name": "stdout",
     "output_type": "stream",
     "text": [
      "you won discounted price of 40 rupees\n"
     ]
    }
   ],
   "source": [
    "amount = int(input(' enter an amount'))\n",
    "if amount >= 500:\n",
    "    print('you won discounted price of 40 rupees')\n",
    "elif 400<=amount<=500:\n",
    "    print('you won discounted price of 10 rupees')\n",
    "elif 100<=amount<=400:\n",
    "    print('you won discounted price of 5 rupees')\n",
    "elif 5<= amount<=400:\n",
    "    print('you won discounted price of 2 rupees')"
   ]
  },
  {
   "cell_type": "code",
   "execution_count": 4,
   "id": "cf59b602-7319-4b00-81f4-58ca9ef4977b",
   "metadata": {},
   "outputs": [],
   "source": [
    "#9 Write a Python program to check if a number is within a specified range using if-else.\n"
   ]
  },
  {
   "cell_type": "code",
   "execution_count": 5,
   "id": "6bd1d255-238c-4af1-9084-964169ef330a",
   "metadata": {},
   "outputs": [
    {
     "name": "stdin",
     "output_type": "stream",
     "text": [
      "enter the number:  5\n"
     ]
    },
    {
     "name": "stdout",
     "output_type": "stream",
     "text": [
      "number is in range\n"
     ]
    }
   ],
   "source": [
    "num = int(input(\"enter the number: \"))\n",
    "\n",
    "if num <= 100:\n",
    "    print(\"number is in range\")\n",
    "else:\n",
    "    print(\"out of range\")"
   ]
  },
  {
   "cell_type": "code",
   "execution_count": 13,
   "id": "798f8e45-c3f5-4812-88d5-34bcee361c07",
   "metadata": {},
   "outputs": [],
   "source": [
    "#10 Create a Python program that determines the grade of a student based on their score using if-else."
   ]
  },
  {
   "cell_type": "markdown",
   "id": "0c24df4a-9d52-4df0-adad-285057cb96fd",
   "metadata": {},
   "source": [
    "student1 = int(input('enter the score'))\n",
    "student2 = int(input('enter the score'))\n",
    "\n",
    "\n",
    "if student1 >=90:\n",
    "    print('excellent score with grade +a')\n",
    "elif student2 <=90:\n",
    "    print('good score with grade b+')\n",
    "else:\n",
    "    print('score is not given')"
   ]
  },
  {
   "cell_type": "code",
   "execution_count": null,
   "id": "db430b5b-d743-416e-bfa7-7b31f26ff038",
   "metadata": {},
   "outputs": [],
   "source": [
    "#11 Write a Python program to check if a string is empty or not using if-else.\n"
   ]
  },
  {
   "cell_type": "code",
   "execution_count": null,
   "id": "453f2463-a9e7-4ea2-9e88-d80ef29688f6",
   "metadata": {},
   "outputs": [],
   "source": [
    "string = input('enter the string')\n",
    "if string == \"\":\n",
    "    print('string is empty')\n",
    "else :\n",
    "    print('string is not empty')"
   ]
  },
  {
   "cell_type": "code",
   "execution_count": null,
   "id": "ef0fe582-2ddf-468f-bc96-8754bfe1b870",
   "metadata": {},
   "outputs": [],
   "source": [
    "#12 Create a Python program that identifies the type of a triangle (e.g., equilateral, isosceles, or scalene) based on input values using if-else.\n"
   ]
  },
  {
   "cell_type": "code",
   "execution_count": null,
   "id": "5c618934-300c-46e9-a8d8-a2eb6233227c",
   "metadata": {},
   "outputs": [],
   "source": [
    "side1 = int(input('enter the side of tringle'))\n",
    "side2 = int(input('enter the side of tringle'))\n",
    "side3 = int(input('enter the side of tringle'))\n",
    "if side1 == side2 == side3:\n",
    "    print('given triangle is equilateral triangle')\n",
    "elif side1 == side2 != side3:\n",
    "    print('given triangle is isoceles triangle')\n",
    "elif side1 != side2 != side3:\n",
    "    print('given triangle is scalene triangle')\n"
   ]
  },
  {
   "cell_type": "code",
   "execution_count": null,
   "id": "366f3759-850f-42f2-9602-726f58c828ec",
   "metadata": {},
   "outputs": [],
   "source": [
    "#14 Write a Python program to determine the day of the week based on a user-provided number using if-else.\n"
   ]
  },
  {
   "cell_type": "code",
   "execution_count": null,
   "id": "3b98b1ce-88f0-4485-bd15-23c778f30d2f",
   "metadata": {},
   "outputs": [],
   "source": [
    "year=int(input(\"Enter year to be checked:\")) \n",
    "if(year%4==0 and year%100!=0 or year%400==0):\n",
    "    print(\"The year is a leap year!\")\n",
    "else: print(\"The year isn't a leap year!\")"
   ]
  },
  {
   "cell_type": "code",
   "execution_count": null,
   "id": "9ed10e36-8297-470f-a823-53a43eb56476",
   "metadata": {},
   "outputs": [],
   "source": [
    "#14 How do you use the \"assert\" statement in Python to add debugging checks within if-else blocks?\n"
   ]
  },
  {
   "cell_type": "code",
   "execution_count": null,
   "id": "083f6e6e-afb7-42fd-804c-f6a530ba4888",
   "metadata": {},
   "outputs": [],
   "source": [
    "#16 Create a Python program that determines the eligibility of a person for a senior citizen discount based on age using if-else.\n"
   ]
  },
  {
   "cell_type": "code",
   "execution_count": null,
   "id": "81d5bb60-8987-46ad-9257-63edc3e78c4c",
   "metadata": {},
   "outputs": [],
   "source": [
    "age = int(input('enter the age of senior citizen'))\n",
    "if age < 10:\n",
    "    print('you are not eligible for any discount')\n",
    "elif 11<=age<=50:\n",
    "    print('you are eligible for 20 percent discount')\n",
    "else:\n",
    "    print('you are eligible for 50 percent discount')\n",
    "    "
   ]
  },
  {
   "cell_type": "code",
   "execution_count": null,
   "id": "ac13f4be-3516-480f-bec0-751c15904ba4",
   "metadata": {},
   "outputs": [],
   "source": [
    "# 17 Write a Python program to categorize a given character as uppercase, lowercase, or neither using if-else.\n"
   ]
  },
  {
   "cell_type": "code",
   "execution_count": null,
   "id": "c4d78adc-e43f-48e5-ae2d-1ec57772d807",
   "metadata": {},
   "outputs": [],
   "source": [
    "s = input('enter the string') \n",
    "\n",
    "if i.islower():\n",
    "    print('entered string is in lowercase')\n",
    "elif i.isupper():\n",
    "    print('entered string is in uppercase')\n",
    "else:\n",
    "    print('neither upper neither lower case')\n",
    "        "
   ]
  },
  {
   "cell_type": "code",
   "execution_count": null,
   "id": "20d19c7e-04d8-4d0f-9c28-9e5971b17833",
   "metadata": {},
   "outputs": [],
   "source": [
    "# 18 Write a Python program to determine the roots of a quadratic equation using if-else.\n"
   ]
  },
  {
   "cell_type": "code",
   "execution_count": null,
   "id": "fced2a43-2ef5-4648-8a8f-d8eeee0125ef",
   "metadata": {
    "tags": []
   },
   "outputs": [],
   "source": [
    "    \n",
    "    print(\"Quadratic function : (a * x^2) + b*x + c\")\n",
    "    a = float(input('enter the value of a'))\n",
    "    b = float(input('enter the value of b'))\n",
    "    c = float(input('enter the value of c '))\n",
    "\n",
    "    r = (b**2 - 4*a*c)\n",
    "\n",
    "    if (r > 0):\n",
    "        num_roots == 2\n",
    "        x1 = ((( -b ) + sqrt(r) ) / 2*a ) \n",
    "        x2 = ((( -b ) -  sqrt(r) ) / 2*a )\n",
    "        print('the two root of quadratic equation' , x1 and x2)\n",
    "    elif (r == 0) :\n",
    "        num_roots = 1\n",
    "        x = ( -b) / 2*a\n",
    "        print('the one root of quadratic equation', x )\n",
    "    else:\n",
    "        num_roots = 0\n",
    "        print('no root of quadratic eqaution')\n",
    "        \n",
    "    \n"
   ]
  },
  {
   "cell_type": "code",
   "execution_count": null,
   "id": "6963ffea-1f44-4794-b17d-3931bb3c0431",
   "metadata": {},
   "outputs": [],
   "source": [
    "#19 reate a Python program that checks if a given year is a century year or not using if-else.\n"
   ]
  },
  {
   "cell_type": "code",
   "execution_count": null,
   "id": "c74350b3-907f-4458-ba1a-1b00656aaa52",
   "metadata": {},
   "outputs": [],
   "source": [
    "year = int(input('enter an year'))\n",
    "year2 = int(input('enter an year'))\n",
    "\n",
    "\n",
    "# To get year (integer input) from the user\n",
    "# year = int(input(\"Enter a year: \"))\n",
    "\n",
    "# divided by 100 means century year (ending with 00)\n",
    "# century year divided by 400 is leap year\n",
    "if (year % 400 == 0) and (year % 100 == 0):\n",
    "    print(\"{0} is a leap year\".format(year))\n",
    "\n",
    "# not divided by 100 means not a century year\n",
    "# year divided by 4 is a leap year\n",
    "elif (year % 4 ==0) and (year2 % 100 != 0):\n",
    "    print(\"{0} is a leap year\".format(year))\n",
    "\n",
    "# if not divided by both 400 (century year) and 4 (not century year)\n",
    "# year is not leap year\n",
    "else:\n",
    "    print(\"{0} is not a leap year\".format(year))"
   ]
  },
  {
   "cell_type": "code",
   "execution_count": null,
   "id": "26628b75-da69-4488-bd51-5a20333d2bc2",
   "metadata": {},
   "outputs": [],
   "source": [
    "#20 Write a Python program to determine if a given number is a perfect square using if-else.\n"
   ]
  },
  {
   "cell_type": "code",
   "execution_count": null,
   "id": "6723959b-efb0-49fe-9027-9a9e723890c6",
   "metadata": {},
   "outputs": [],
   "source": [
    "import math\n",
    "num = 25\n",
    "sqrt_num = math. sqrt(num)\n",
    "if sqrt_num. is_integer():\n",
    "    print(\"The number is a perfect square\")\n",
    "else:\n",
    "    print(\"The number is not a perfect square\")\n"
   ]
  },
  {
   "cell_type": "code",
   "execution_count": null,
   "id": "02061829-f490-4832-9743-a9a1d15b720e",
   "metadata": {},
   "outputs": [],
   "source": [
    "#22 Create a Python program that calculates the BMI (Body Mass Index) of a person based on their weight and height using if-else.\n"
   ]
  },
  {
   "cell_type": "code",
   "execution_count": null,
   "id": "140350d2-99d0-4b74-8301-684571cce668",
   "metadata": {},
   "outputs": [],
   "source": [
    "bmi = float(input('enter a bmi of a person'))\n",
    "if bmi<18.5:\n",
    "    print ('underweight')\n",
    "elif 18.5<=bmi<=24.9:\n",
    "    print('normal')\n",
    "elif 24.9<=bmi<=29.9:\n",
    "    print('overweight')\n",
    "elif bmi>=30.1:\n",
    "    print('obesty')"
   ]
  },
  {
   "cell_type": "code",
   "execution_count": null,
   "id": "6dc4ef5a-92a2-4c4b-894c-c5127226e4c0",
   "metadata": {},
   "outputs": [],
   "source": [
    "#23 How can you use the \"filter()\" function with if-else statements to filter elements from a list?\n"
   ]
  },
  {
   "cell_type": "code",
   "execution_count": null,
   "id": "f3bd7248-7cf1-4e26-9bf2-dc48c1dadb66",
   "metadata": {},
   "outputs": [],
   "source": [
    "#24 \n"
   ]
  },
  {
   "cell_type": "code",
   "execution_count": null,
   "id": "ece10d12-1252-4677-b7f1-8fc07cfe5665",
   "metadata": {},
   "outputs": [],
   "source": [
    "num = int(input('enter a number'))\n",
    "# If given number is greater than 1\n",
    "if num > 1:\n",
    "    # Iterate from 2 to n / 2\n",
    "    for i in range(2, int(num/2)+1):\n",
    "        # If num is divisible by any number between\n",
    "        # 2 and n / 2, it is not prime\n",
    "        if (num % i) == 0:\n",
    "            print(num, \"is not a prime number\")\n",
    "            break\n",
    "    else:\n",
    "        print(num, \"is a prime number\")\n",
    "else:\n",
    "    print(num, \"is not a prime number\")"
   ]
  },
  {
   "cell_type": "code",
   "execution_count": null,
   "id": "002bffa6-ab67-4f2f-9159-7d19f2f47e09",
   "metadata": {},
   "outputs": [],
   "source": [
    "  # map function"
   ]
  },
  {
   "cell_type": "code",
   "execution_count": null,
   "id": "eeae2d94-53e1-4130-bfed-081c2d417d31",
   "metadata": {},
   "outputs": [],
   "source": [
    "#1Explain the purpose of the `map()` function in Python and provide an example of how it can be used to apply a function to each element of an iterable.\n"
   ]
  },
  {
   "cell_type": "code",
   "execution_count": null,
   "id": "ac299210-c04e-44f8-854a-a802215ec2a2",
   "metadata": {},
   "outputs": [],
   "source": [
    "''' map fuction is used for mapping for certain data one by one'''\n",
    "s = 'vish'\n",
    "a = iter(s)\n",
    "list(map(lambda x : s, s))"
   ]
  },
  {
   "cell_type": "code",
   "execution_count": null,
   "id": "ce955d35-3f94-4d37-9874-9a954ee58aa5",
   "metadata": {},
   "outputs": [],
   "source": [
    "#2 Write a Python program that uses the `map()` function to square each element of a list of numbers.\n"
   ]
  },
  {
   "cell_type": "code",
   "execution_count": null,
   "id": "c41a38b6-195c-43fc-b20a-a9a38900533a",
   "metadata": {},
   "outputs": [],
   "source": [
    "l = [1,2,3]"
   ]
  },
  {
   "cell_type": "code",
   "execution_count": null,
   "id": "854c7f68-990a-41ea-92ca-2a626d5ab705",
   "metadata": {},
   "outputs": [],
   "source": [
    "list(map(lambda x : x**2 , l))"
   ]
  },
  {
   "cell_type": "code",
   "execution_count": null,
   "id": "225f6bf1-447c-4c95-90a4-eada722451cc",
   "metadata": {},
   "outputs": [],
   "source": [
    "#3 How does the `map()` function differ from a list comprehension in Python, and when would you choose one over the other?\n"
   ]
  },
  {
   "cell_type": "code",
   "execution_count": null,
   "id": "acce0e9d-05db-4094-91c4-09a6a77335da",
   "metadata": {},
   "outputs": [],
   "source": [
    "#4 Create a Python program that uses the `map()` function to convert a list of names to uppercase.\n"
   ]
  },
  {
   "cell_type": "code",
   "execution_count": null,
   "id": "6a06e80e-cd52-44db-ab6b-ea3027681ff6",
   "metadata": {},
   "outputs": [],
   "source": [
    "l = ['vish']"
   ]
  },
  {
   "cell_type": "code",
   "execution_count": null,
   "id": "5926dc53-d4fb-4233-afc9-d3f56e934eb5",
   "metadata": {},
   "outputs": [],
   "source": [
    "list(map(lambda x : x.upper(), l))"
   ]
  },
  {
   "cell_type": "code",
   "execution_count": null,
   "id": "9dcef03f-ff9c-4cd7-a4cc-fd58aa4086f6",
   "metadata": {},
   "outputs": [],
   "source": [
    "#5 Write a Python program that uses the `map()` function to calculate the length of each word in a list of strings.\n"
   ]
  },
  {
   "cell_type": "code",
   "execution_count": null,
   "id": "e3a73ed3-894a-485d-8916-c90e870d4700",
   "metadata": {},
   "outputs": [],
   "source": [
    "l2 = ['hey' 'i' 'am' 'vishal']"
   ]
  },
  {
   "cell_type": "code",
   "execution_count": null,
   "id": "45266332-a846-4d55-80c0-387afb1c47fd",
   "metadata": {},
   "outputs": [],
   "source": [
    "list(map(lambda x : len(x), l2))"
   ]
  },
  {
   "cell_type": "code",
   "execution_count": null,
   "id": "2a06ee42-94d2-4b25-9972-776d619e0b23",
   "metadata": {},
   "outputs": [],
   "source": [
    "#6 How can you use the `map()` function to apply a custom function to elements of multiple lists simultaneously in Python?\n"
   ]
  },
  {
   "cell_type": "code",
   "execution_count": null,
   "id": "1016188f-edd6-40d7-aa9f-898091cbb40f",
   "metadata": {},
   "outputs": [],
   "source": [
    "n = [1,2,3]"
   ]
  },
  {
   "cell_type": "code",
   "execution_count": null,
   "id": "14552d03-7e35-4ca7-9545-a00b3585cf98",
   "metadata": {},
   "outputs": [],
   "source": [
    "p = [1,2,4]"
   ]
  },
  {
   "cell_type": "code",
   "execution_count": null,
   "id": "2b98faf9-ae2c-4dd8-80ff-af12c6bd101e",
   "metadata": {},
   "outputs": [],
   "source": [
    "\n",
    "def mul(x,y):\n",
    "    return x*y\n"
   ]
  },
  {
   "cell_type": "code",
   "execution_count": null,
   "id": "a5d9bca2-5606-4353-804e-ac2238934ad1",
   "metadata": {},
   "outputs": [],
   "source": [
    "list(map(mul ,l1,l2))"
   ]
  },
  {
   "cell_type": "code",
   "execution_count": null,
   "id": "d9cecaa3-f22a-42ce-b60b-948fa3acdd08",
   "metadata": {},
   "outputs": [],
   "source": [
    "#7 Create a Python program that uses `map()` to convert a list of temperatures from Celsius to Fahrenheit.\n"
   ]
  },
  {
   "cell_type": "code",
   "execution_count": null,
   "id": "c9bfcb1f-b7e0-4d24-a6f4-637e47a333a2",
   "metadata": {},
   "outputs": [],
   "source": [
    "c_to_f = lambda c: (9/5)*c +32"
   ]
  },
  {
   "cell_type": "code",
   "execution_count": null,
   "id": "1b75f59a-3af7-479d-aeb1-800d5f449437",
   "metadata": {},
   "outputs": [],
   "source": [
    "c_to_f(2)"
   ]
  },
  {
   "cell_type": "code",
   "execution_count": null,
   "id": "0004035e-26a2-42e3-be48-d953de4938f7",
   "metadata": {},
   "outputs": [],
   "source": [
    "#8 Write a Python program that uses the `map()` function to round each element of a list of floating-point numbers to the nearest integer.\n"
   ]
  },
  {
   "cell_type": "code",
   "execution_count": null,
   "id": "35c33342-8957-4cd0-addc-592cc44fadb1",
   "metadata": {},
   "outputs": [],
   "source": [
    "l = [2.1,3.1,4.1]"
   ]
  },
  {
   "cell_type": "code",
   "execution_count": null,
   "id": "d210b4a3-8ccb-4201-95dd-a79e9ad29b85",
   "metadata": {},
   "outputs": [],
   "source": [
    "list(map(lambda x : round(x), l))"
   ]
  },
  {
   "cell_type": "code",
   "execution_count": null,
   "id": "5b712fda-2031-484c-89be-782d8a3061b9",
   "metadata": {},
   "outputs": [],
   "source": [
    "             # reduce function"
   ]
  },
  {
   "cell_type": "code",
   "execution_count": null,
   "id": "99ad1c96-5706-4259-9c4f-db2b83620c4f",
   "metadata": {},
   "outputs": [],
   "source": [
    "#1 What is the `reduce()` function in Python, and what module should you import to use it? Provide an example of its basic usage.\n"
   ]
  },
  {
   "cell_type": "code",
   "execution_count": 8,
   "id": "b2bde99b-0dc0-4b69-a22f-4d9d6cd40a7c",
   "metadata": {},
   "outputs": [],
   "source": [
    "from functools import reduce"
   ]
  },
  {
   "cell_type": "code",
   "execution_count": 9,
   "id": "03753aab-a369-4844-a278-8ae37a3b4a89",
   "metadata": {},
   "outputs": [],
   "source": [
    "# 2 Write a Python program that uses the `reduce()` function to find the product of all elements in a list.\n"
   ]
  },
  {
   "cell_type": "code",
   "execution_count": 10,
   "id": "d4f106f3-2637-4d89-bdea-f6fff40a5de3",
   "metadata": {},
   "outputs": [],
   "source": [
    "l = [1,2]"
   ]
  },
  {
   "cell_type": "code",
   "execution_count": 11,
   "id": "e322a0cf-6449-4e6b-a0b1-5cf0c947e279",
   "metadata": {},
   "outputs": [
    {
     "data": {
      "text/plain": [
       "2"
      ]
     },
     "execution_count": 11,
     "metadata": {},
     "output_type": "execute_result"
    }
   ],
   "source": [
    "reduce(lambda x,y : x*y , l)"
   ]
  },
  {
   "cell_type": "code",
   "execution_count": 12,
   "id": "0ec8652e-3add-4bed-8817-bb0c8b587435",
   "metadata": {},
   "outputs": [],
   "source": [
    "#3 Create a Python program that uses `reduce()` to find the maximum element in a list of numbers.\n"
   ]
  },
  {
   "cell_type": "code",
   "execution_count": 13,
   "id": "5da533ab-5616-4a64-a7c8-41773d473a2f",
   "metadata": {},
   "outputs": [
    {
     "data": {
      "text/plain": [
       "2"
      ]
     },
     "execution_count": 13,
     "metadata": {},
     "output_type": "execute_result"
    }
   ],
   "source": [
    "reduce(lambda x,y : x if x>y else y ,l)"
   ]
  },
  {
   "cell_type": "code",
   "execution_count": 14,
   "id": "95736e7c-0f15-42d6-8486-8d8d92e1eaa1",
   "metadata": {},
   "outputs": [],
   "source": [
    "#4 How can you use the `reduce()` function to concatenate a list of strings into a single string?\n"
   ]
  },
  {
   "cell_type": "code",
   "execution_count": 15,
   "id": "50f6c6b4-cb64-4799-a868-13590016008a",
   "metadata": {},
   "outputs": [],
   "source": [
    "l = ['hey','i','vish']"
   ]
  },
  {
   "cell_type": "code",
   "execution_count": 16,
   "id": "9c9d2482-05c7-4955-a5b4-103307c91bca",
   "metadata": {},
   "outputs": [
    {
     "data": {
      "text/plain": [
       "'heyivish'"
      ]
     },
     "execution_count": 16,
     "metadata": {},
     "output_type": "execute_result"
    }
   ],
   "source": [
    "reduce(lambda x ,y : x+y, l)"
   ]
  },
  {
   "cell_type": "code",
   "execution_count": 17,
   "id": "442b31a0-bec5-478a-b4c7-7564047912fb",
   "metadata": {},
   "outputs": [],
   "source": [
    "\n",
    "#5 Write a Python program that calculates the factorial of a number using the `reduce()` function."
   ]
  },
  {
   "cell_type": "code",
   "execution_count": 18,
   "id": "eeea6365-ef36-43c4-8733-2346fe5bce24",
   "metadata": {},
   "outputs": [],
   "source": [
    "n = 4\n",
    "fact = reduce(lambda a,b: a*b, range(1,n+1))"
   ]
  },
  {
   "cell_type": "code",
   "execution_count": 19,
   "id": "e3179382-986b-4706-b68e-46f9ade68546",
   "metadata": {},
   "outputs": [
    {
     "data": {
      "text/plain": [
       "24"
      ]
     },
     "execution_count": 19,
     "metadata": {},
     "output_type": "execute_result"
    }
   ],
   "source": [
    "fact"
   ]
  },
  {
   "cell_type": "code",
   "execution_count": 20,
   "id": "a965742b-a8b1-4e14-948d-293c60912bb6",
   "metadata": {},
   "outputs": [],
   "source": [
    "#6 Create a Python program that uses `reduce()` to find the GCD (Greatest Common Divisor) of a list of numbers.\n"
   ]
  },
  {
   "cell_type": "code",
   "execution_count": 28,
   "id": "9c0662bf-e526-4418-89a6-0fdf80bb2f2c",
   "metadata": {},
   "outputs": [],
   "source": [
    "l = [5,10,15]\n"
   ]
  },
  {
   "cell_type": "code",
   "execution_count": 30,
   "id": "276a665c-8414-49ff-ae23-0f09d99d21c4",
   "metadata": {},
   "outputs": [],
   "source": [
    "#7 Write a Python program that uses the `reduce()` function to find the sum of the digits of a given number.\n"
   ]
  },
  {
   "cell_type": "code",
   "execution_count": 31,
   "id": "c5097438-035b-40e3-8a43-e6c78b209710",
   "metadata": {},
   "outputs": [
    {
     "data": {
      "text/plain": [
       "[5, 10, 15]"
      ]
     },
     "execution_count": 31,
     "metadata": {},
     "output_type": "execute_result"
    }
   ],
   "source": [
    "l"
   ]
  },
  {
   "cell_type": "code",
   "execution_count": 32,
   "id": "7734e4ad-a9f4-44c9-872c-218e9720bcf7",
   "metadata": {},
   "outputs": [
    {
     "data": {
      "text/plain": [
       "30"
      ]
     },
     "execution_count": 32,
     "metadata": {},
     "output_type": "execute_result"
    }
   ],
   "source": [
    "reduce(lambda x,y: x+y, l)"
   ]
  },
  {
   "cell_type": "code",
   "execution_count": 33,
   "id": "7a51785d-e641-4503-b3fb-6c0d8e52a6e4",
   "metadata": {},
   "outputs": [],
   "source": [
    "                  # filter"
   ]
  },
  {
   "cell_type": "code",
   "execution_count": 34,
   "id": "ae6a615f-f6c1-4dcc-9ee7-d4ba908bac6f",
   "metadata": {},
   "outputs": [],
   "source": [
    "#1 Explain the purpose of the `filter()` function in Python and provide an example of how it can be used to filter elements from an iterable.\n"
   ]
  },
  {
   "cell_type": "code",
   "execution_count": 35,
   "id": "3e9769c5-35b4-4a4e-9af8-89f877e7537c",
   "metadata": {},
   "outputs": [
    {
     "data": {
      "text/plain": [
       "[10]"
      ]
     },
     "execution_count": 35,
     "metadata": {},
     "output_type": "execute_result"
    }
   ],
   "source": [
    "list(filter(lambda x : x%2 == 0,l))"
   ]
  },
  {
   "cell_type": "code",
   "execution_count": 36,
   "id": "022f1d9e-d7b6-43dd-b630-179f1f391f2e",
   "metadata": {},
   "outputs": [],
   "source": [
    "#2 Write a Python program that uses the `filter()` function to select even numbers from a list of integers.\n"
   ]
  },
  {
   "cell_type": "code",
   "execution_count": 37,
   "id": "0d8514f8-0d57-453e-afea-761836cee2c7",
   "metadata": {},
   "outputs": [],
   "source": [
    "l1 = [1,2,3,4,5,6]"
   ]
  },
  {
   "cell_type": "code",
   "execution_count": 38,
   "id": "e333a9f0-89b2-4558-99f3-e41a14d1e0b4",
   "metadata": {},
   "outputs": [
    {
     "data": {
      "text/plain": [
       "[2, 4, 6]"
      ]
     },
     "execution_count": 38,
     "metadata": {},
     "output_type": "execute_result"
    }
   ],
   "source": [
    "list(filter(lambda x : x%2 == 0, l1))"
   ]
  },
  {
   "cell_type": "code",
   "execution_count": 39,
   "id": "ad6386ec-a8f8-4d4a-a449-a5064ebb4967",
   "metadata": {},
   "outputs": [],
   "source": [
    "#3 Create a Python program that uses the `filter()` function to select names that start with a specific letter from a list of strings.\n"
   ]
  },
  {
   "cell_type": "code",
   "execution_count": 40,
   "id": "88bffe9a-cdc7-4888-98f2-ba7fa2291871",
   "metadata": {},
   "outputs": [],
   "source": [
    "l4 = ['hey', 'i','am']"
   ]
  },
  {
   "cell_type": "code",
   "execution_count": 41,
   "id": "4b477929-44e4-49e0-b419-3fa3e7a16206",
   "metadata": {},
   "outputs": [],
   "source": [
    "with_s = list(filter(lambda x: x.startswith('hey'), l4))"
   ]
  },
  {
   "cell_type": "code",
   "execution_count": 42,
   "id": "98c8ba68-cb8d-40ca-9e95-f1bbed879b0e",
   "metadata": {},
   "outputs": [
    {
     "data": {
      "text/plain": [
       "['hey']"
      ]
     },
     "execution_count": 42,
     "metadata": {},
     "output_type": "execute_result"
    }
   ],
   "source": [
    "with_s"
   ]
  },
  {
   "cell_type": "code",
   "execution_count": 43,
   "id": "8f02312f-99a4-485d-9b92-a7f0163409ad",
   "metadata": {},
   "outputs": [],
   "source": [
    "#4 Write a Python program that uses the `filter()` function to select prime numbers from a list of integers.\n"
   ]
  },
  {
   "cell_type": "code",
   "execution_count": 44,
   "id": "5319b352-ad3d-45d5-90b2-2e38a71bf3aa",
   "metadata": {},
   "outputs": [],
   "source": [
    "\n",
    "import math\n",
    "\n",
    "def main(x):\n",
    "\n",
    "\n",
    "   if x <= 1:\n",
    "       return False\n",
    "\n",
    "\n",
    "   for i in range(2, int(math.sqrt(x)) + 1):\n",
    "       if x % i == 0:\n",
    "           return False\n",
    "\n",
    "   return True \n"
   ]
  },
  {
   "cell_type": "code",
   "execution_count": 45,
   "id": "f02679fb-d9ed-4bc1-9cbe-07992ab0d55d",
   "metadata": {},
   "outputs": [
    {
     "name": "stdout",
     "output_type": "stream",
     "text": [
      "[5]\n"
     ]
    }
   ],
   "source": [
    "print(list(filter(main, l)))"
   ]
  },
  {
   "cell_type": "code",
   "execution_count": 46,
   "id": "a41e2447-96be-4abb-9c5e-969bbbf6a8aa",
   "metadata": {},
   "outputs": [],
   "source": [
    "#5 How can you use the `filter()` function to remove None values from a list in Python?\n"
   ]
  },
  {
   "cell_type": "code",
   "execution_count": 47,
   "id": "6da90ae2-92c2-4d5a-8a82-67754c4421f8",
   "metadata": {},
   "outputs": [],
   "source": [
    "l2= [1,2,3,'vish']"
   ]
  },
  {
   "cell_type": "code",
   "execution_count": 48,
   "id": "e30910ff-956c-4960-92e8-73dfc831d4cc",
   "metadata": {},
   "outputs": [],
   "source": [
    "l2.remove('vish')"
   ]
  },
  {
   "cell_type": "code",
   "execution_count": 49,
   "id": "2f8c2dee-2e30-462a-b30b-02b4e0e4dd4d",
   "metadata": {},
   "outputs": [
    {
     "data": {
      "text/plain": [
       "[1, 2, 3]"
      ]
     },
     "execution_count": 49,
     "metadata": {},
     "output_type": "execute_result"
    }
   ],
   "source": [
    "l2"
   ]
  },
  {
   "cell_type": "code",
   "execution_count": 50,
   "id": "f5e7390a-3eca-479f-adbd-bd4235089a24",
   "metadata": {},
   "outputs": [],
   "source": [
    "# 6Create a Python program that uses `filter()` to select words longer than a certain length from a list of strings.\n"
   ]
  },
  {
   "cell_type": "code",
   "execution_count": 51,
   "id": "a0549ebc-3394-4fa6-843d-b127c88a3c62",
   "metadata": {},
   "outputs": [],
   "source": [
    "l4 = ['vishal','rsj','xvyx', 'duybvcueydfbvc']"
   ]
  },
  {
   "cell_type": "code",
   "execution_count": 52,
   "id": "98a4b787-7b2a-4a39-b6bc-004afb92107f",
   "metadata": {},
   "outputs": [
    {
     "data": {
      "text/plain": [
       "[]"
      ]
     },
     "execution_count": 52,
     "metadata": {},
     "output_type": "execute_result"
    }
   ],
   "source": [
    "list(filter(lambda x: len(l4)<4 ,l4))"
   ]
  },
  {
   "cell_type": "code",
   "execution_count": 53,
   "id": "de2c8686-95aa-4705-baf1-990297aef596",
   "metadata": {},
   "outputs": [],
   "source": [
    "             # basic of function"
   ]
  },
  {
   "cell_type": "code",
   "execution_count": 54,
   "id": "93fba67d-1df8-47df-9cec-3adfd4ada4ee",
   "metadata": {},
   "outputs": [],
   "source": [
    "#4 Write a Python program that defines a function to calculate the sum of two numbers and then calls the function.\n"
   ]
  },
  {
   "cell_type": "code",
   "execution_count": 55,
   "id": "0d6bbe38-c2e4-4e94-be32-ed635dc19e9c",
   "metadata": {},
   "outputs": [],
   "source": [
    "x ,y = 1,2"
   ]
  },
  {
   "cell_type": "code",
   "execution_count": 58,
   "id": "6e5542be-24b7-461e-bf6a-3ef44bee799f",
   "metadata": {},
   "outputs": [],
   "source": [
    "def test(x,y):\n",
    "    return x+y"
   ]
  },
  {
   "cell_type": "code",
   "execution_count": 59,
   "id": "f06b4b38-4b65-42f9-bae9-28d56350bf94",
   "metadata": {},
   "outputs": [
    {
     "data": {
      "text/plain": [
       "3"
      ]
     },
     "execution_count": 59,
     "metadata": {},
     "output_type": "execute_result"
    }
   ],
   "source": [
    "test(1,2)"
   ]
  },
  {
   "cell_type": "code",
   "execution_count": 60,
   "id": "2f0135b0-8387-4f17-99c6-85c2a008eb29",
   "metadata": {},
   "outputs": [],
   "source": [
    "#5 Create a Python function that takes two arguments and returns their product.\n"
   ]
  },
  {
   "cell_type": "code",
   "execution_count": 1,
   "id": "2f74522d-41b0-4989-bc75-744eb96837ff",
   "metadata": {},
   "outputs": [],
   "source": [
    "def test2(a,b):\n",
    "    return a*b"
   ]
  },
  {
   "cell_type": "code",
   "execution_count": 2,
   "id": "66373821-d365-4cba-b665-41ba8fad93a8",
   "metadata": {},
   "outputs": [
    {
     "data": {
      "text/plain": [
       "2"
      ]
     },
     "execution_count": 2,
     "metadata": {},
     "output_type": "execute_result"
    }
   ],
   "source": [
    "test2(1,2)"
   ]
  },
  {
   "cell_type": "code",
   "execution_count": 3,
   "id": "600155f9-3a2b-4404-b4d2-9d57404b3140",
   "metadata": {},
   "outputs": [],
   "source": [
    "    #Function Parameters and Arguments:\n"
   ]
  },
  {
   "cell_type": "code",
   "execution_count": 4,
   "id": "555edd57-967c-4141-a067-8c19df0f4ef7",
   "metadata": {},
   "outputs": [],
   "source": [
    "# 2 Write a Python program that defines a function with default argument values.\n"
   ]
  },
  {
   "cell_type": "code",
   "execution_count": 9,
   "id": "07d58532-7068-4f9e-8438-84572313f339",
   "metadata": {},
   "outputs": [],
   "source": [
    "def test3(*arg):\n",
    "    return arg"
   ]
  },
  {
   "cell_type": "code",
   "execution_count": 11,
   "id": "132c7947-5fe2-48c3-97df-79aa1651eac4",
   "metadata": {},
   "outputs": [
    {
     "data": {
      "text/plain": [
       "(1, 2, 3)"
      ]
     },
     "execution_count": 11,
     "metadata": {},
     "output_type": "execute_result"
    }
   ],
   "source": [
    "test3(1,2,3)"
   ]
  },
  {
   "cell_type": "code",
   "execution_count": 13,
   "id": "90303e0f-96bf-43a3-bc10-44b4396301db",
   "metadata": {},
   "outputs": [],
   "source": [
    "#4 Create a Python function that accepts a variable number of arguments and calculates their sum.\n"
   ]
  },
  {
   "cell_type": "code",
   "execution_count": 21,
   "id": "c91678ca-20d4-44cc-b664-3634c95aca0a",
   "metadata": {},
   "outputs": [],
   "source": [
    "def test(a,b,c):\n",
    "    return a+b+c\n"
   ]
  },
  {
   "cell_type": "code",
   "execution_count": 22,
   "id": "621d0887-da67-4907-877c-cc9e577993df",
   "metadata": {},
   "outputs": [
    {
     "data": {
      "text/plain": [
       "6"
      ]
     },
     "execution_count": 22,
     "metadata": {},
     "output_type": "execute_result"
    }
   ],
   "source": [
    "test(1,2,3)"
   ]
  },
  {
   "cell_type": "code",
   "execution_count": 23,
   "id": "a7baeccd-6b24-4741-bcd5-0ccc62c9e2d3",
   "metadata": {},
   "outputs": [],
   "source": [
    "   #Return Values and Scoping:\n"
   ]
  },
  {
   "cell_type": "code",
   "execution_count": 24,
   "id": "a543cfa2-162b-48ea-877f-267c79de09af",
   "metadata": {},
   "outputs": [],
   "source": [
    "# Create a Python function that calculates the factorial of a number and returns it.\n"
   ]
  },
  {
   "cell_type": "code",
   "execution_count": 1,
   "id": "cc1af943-09cb-458c-ab2a-e5ab3e1fda27",
   "metadata": {},
   "outputs": [],
   "source": [
    "from functools import reduce \n",
    "n = 4\n",
    "fact = reduce(lambda a,b: a*b, range(1,n+1))"
   ]
  },
  {
   "cell_type": "code",
   "execution_count": 2,
   "id": "19d02453-2677-4cfe-8938-a40955ff2916",
   "metadata": {},
   "outputs": [],
   "source": [
    "  #  Lambda Functions and Higher-Order Functions:\n"
   ]
  },
  {
   "cell_type": "code",
   "execution_count": 3,
   "id": "12c840d9-6807-42ac-86ed-65f808487cfc",
   "metadata": {},
   "outputs": [],
   "source": [
    "# Write a Python program that uses lambda functions to sort a list of tuples based on the second element.\n"
   ]
  },
  {
   "cell_type": "code",
   "execution_count": 20,
   "id": "a54c7547-90cc-462f-8a38-42f627f49283",
   "metadata": {},
   "outputs": [
    {
     "name": "stdout",
     "output_type": "stream",
     "text": [
      "Original list of tuples:\n",
      "[('English', 88), ('Science', 90), ('Maths', 97), ('Social sciences', 82)]\n",
      "\n",
      "Sorting the List of Tuples:\n",
      "[('Social sciences', 82), ('English', 88), ('Science', 90), ('Maths', 97)]\n"
     ]
    }
   ],
   "source": [
    "subject_marks = [('English', 88), ('Science', 90), ('Maths', 97), ('Social sciences', 82)]\n",
    "print(\"Original list of tuples:\")\n",
    "print(subject_marks)\n",
    "subject_marks.sort(key = lambda x: x[1])\n",
    "print(\"\\nSorting the List of Tuples:\")\n",
    "print(subject_marks)"
   ]
  },
  {
   "cell_type": "code",
   "execution_count": 22,
   "id": "2b9c6342-ea18-4cd4-89d3-7d5335069596",
   "metadata": {},
   "outputs": [],
   "source": [
    "# Function Documentation and Best Practices:\n"
   ]
  },
  {
   "cell_type": "code",
   "execution_count": 23,
   "id": "8aedea36-00cf-45e5-964c-2227c76e0df9",
   "metadata": {},
   "outputs": [],
   "source": [
    "#Describe some best practices for naming functions and variables in Python, including naming conventions and guidelines.\n"
   ]
  },
  {
   "cell_type": "code",
   "execution_count": null,
   "id": "84c38019-65ab-458f-b583-8a993335abc7",
   "metadata": {},
   "outputs": [],
   "source": []
  },
  {
   "cell_type": "code",
   "execution_count": null,
   "id": "84a85f06-bc7c-44e0-8971-12c746a0c853",
   "metadata": {},
   "outputs": [],
   "source": []
  },
  {
   "cell_type": "code",
   "execution_count": null,
   "id": "265786a4-533c-4dd3-8d16-230a252d1337",
   "metadata": {},
   "outputs": [],
   "source": []
  },
  {
   "cell_type": "code",
   "execution_count": null,
   "id": "e6afaf7d-2778-488d-aa4d-13ea9b897480",
   "metadata": {},
   "outputs": [],
   "source": []
  },
  {
   "cell_type": "code",
   "execution_count": null,
   "id": "2344d536-d224-481f-9063-38e8905b302d",
   "metadata": {},
   "outputs": [],
   "source": []
  },
  {
   "cell_type": "code",
   "execution_count": 24,
   "id": "7bd4b09e-81c2-4277-9ca8-70b6e1f0a233",
   "metadata": {},
   "outputs": [],
   "source": [
    "# recursive function"
   ]
  },
  {
   "cell_type": "code",
   "execution_count": 25,
   "id": "c4e958b1-c52f-41fb-b272-1777ae7a5a5b",
   "metadata": {},
   "outputs": [],
   "source": [
    "# 2Write a Python program to calculate the factorial of a number using recursion.\n"
   ]
  },
  {
   "cell_type": "code",
   "execution_count": 26,
   "id": "be1489f0-adfb-4f10-b2d7-e8c57112acf5",
   "metadata": {},
   "outputs": [],
   "source": [
    "def fact(n):\n",
    "    if n == 0:\n",
    "        return 1\n",
    "    else:\n",
    "        return n*fact(n-1)"
   ]
  },
  {
   "cell_type": "code",
   "execution_count": 30,
   "id": "b202c905-ede5-4ec4-b626-abc4fbfb3792",
   "metadata": {},
   "outputs": [
    {
     "data": {
      "text/plain": [
       "6"
      ]
     },
     "execution_count": 30,
     "metadata": {},
     "output_type": "execute_result"
    }
   ],
   "source": [
    "fact(3)"
   ]
  },
  {
   "cell_type": "code",
   "execution_count": 31,
   "id": "4005ddc7-8ace-43a4-8f5b-b491b74e792e",
   "metadata": {},
   "outputs": [],
   "source": [
    "# 3 Create a recursive Python function to find the nth Fibonacci number."
   ]
  },
  {
   "cell_type": "code",
   "execution_count": 32,
   "id": "d764c67b-d753-4e33-b647-23ee19c975dd",
   "metadata": {},
   "outputs": [],
   "source": [
    "def fib(n):\n",
    "    if n<=1:\n",
    "        return n\n",
    "    else:\n",
    "        return fib(n-2) + fib(n-1)"
   ]
  },
  {
   "cell_type": "code",
   "execution_count": 33,
   "id": "80ecc389-97c2-41c9-809e-2e42500ef828",
   "metadata": {},
   "outputs": [
    {
     "data": {
      "text/plain": [
       "55"
      ]
     },
     "execution_count": 33,
     "metadata": {},
     "output_type": "execute_result"
    }
   ],
   "source": [
    "fib(10)"
   ]
  },
  {
   "cell_type": "code",
   "execution_count": 34,
   "id": "c3aeea2e-0723-4567-9940-bc74a070abfa",
   "metadata": {},
   "outputs": [],
   "source": [
    "# 4 Write a recursive Python function to calculate the sum of all elements in a list.\n"
   ]
  },
  {
   "cell_type": "code",
   "execution_count": 35,
   "id": "562c9f86-05ad-4a0c-9a60-0b69995c2136",
   "metadata": {},
   "outputs": [],
   "source": [
    "def sum_digit(n):\n",
    "    if n < 10 :\n",
    "        return n\n",
    "    else:\n",
    "        return n % 10 + sum_digit(n//10)"
   ]
  },
  {
   "cell_type": "code",
   "execution_count": 36,
   "id": "27621ded-b296-4620-b408-57206781847e",
   "metadata": {},
   "outputs": [
    {
     "data": {
      "text/plain": [
       "12"
      ]
     },
     "execution_count": 36,
     "metadata": {},
     "output_type": "execute_result"
    }
   ],
   "source": [
    "sum_digit(138)"
   ]
  },
  {
   "cell_type": "code",
   "execution_count": 37,
   "id": "75a47371-dec3-4f0d-8057-53000c6fae31",
   "metadata": {},
   "outputs": [],
   "source": [
    "# 7Write a recursive Python function to reverse a string.\n"
   ]
  },
  {
   "cell_type": "code",
   "execution_count": 39,
   "id": "c11b4fa9-de01-4e5a-95cb-d2ea9e6dc87a",
   "metadata": {},
   "outputs": [],
   "source": [
    "def reverse_str(s):\n",
    "    if s == '':\n",
    "        return 0\n",
    "    else:\n",
    "        return s[::-1]"
   ]
  },
  {
   "cell_type": "code",
   "execution_count": 40,
   "id": "5ad7d6af-f09e-4d2e-9665-72465ee5d59d",
   "metadata": {},
   "outputs": [
    {
     "data": {
      "text/plain": [
       "'hsiv'"
      ]
     },
     "execution_count": 40,
     "metadata": {},
     "output_type": "execute_result"
    }
   ],
   "source": [
    "reverse_str('vish')"
   ]
  },
  {
   "cell_type": "code",
   "execution_count": 41,
   "id": "2a59857c-c183-4fe0-a463-e70318bac2f0",
   "metadata": {},
   "outputs": [],
   "source": [
    "#8 Create a recursive Python function to calculate the power of a number (x^n).\n"
   ]
  },
  {
   "cell_type": "code",
   "execution_count": 42,
   "id": "f2ec3193-4442-46b8-8a8a-e79bef025600",
   "metadata": {},
   "outputs": [],
   "source": [
    "def power_fun(n,k):\n",
    "    if k == 0:\n",
    "        return 1\n",
    "    else :\n",
    "        return n*power_fun(n, k-1)"
   ]
  },
  {
   "cell_type": "code",
   "execution_count": 43,
   "id": "cfcaf436-f7f8-4f74-8b2b-5deb74a3d300",
   "metadata": {},
   "outputs": [
    {
     "data": {
      "text/plain": [
       "4"
      ]
     },
     "execution_count": 43,
     "metadata": {},
     "output_type": "execute_result"
    }
   ],
   "source": [
    "power_fun(2,2)"
   ]
  },
  {
   "cell_type": "code",
   "execution_count": 44,
   "id": "55b684ab-2621-41bd-b60f-7f9ff8b2b3d2",
   "metadata": {},
   "outputs": [],
   "source": [
    "# 9 Write a recursive Python function to find all permutations of a given string.\n"
   ]
  },
  {
   "cell_type": "code",
   "execution_count": 49,
   "id": "0e712a44-c7a5-415b-955d-1218039f72b0",
   "metadata": {},
   "outputs": [],
   "source": [
    "def find_len(s):\n",
    "    if s == '':\n",
    "        return 0\n",
    "    else:\n",
    "        return 1 + find_len(s[1:])\n",
    "def reverse_str(s):\n",
    "    if s == '':\n",
    "        return 0\n",
    "    else:\n",
    "        return s[::-1]\n",
    "\n",
    "\n"
   ]
  },
  {
   "cell_type": "code",
   "execution_count": 50,
   "id": "b6465b14-dcaa-4c61-99f4-119c4a760f87",
   "metadata": {},
   "outputs": [
    {
     "data": {
      "text/plain": [
       "4"
      ]
     },
     "execution_count": 50,
     "metadata": {},
     "output_type": "execute_result"
    }
   ],
   "source": [
    "find_len('vish')"
   ]
  },
  {
   "cell_type": "code",
   "execution_count": 51,
   "id": "529da5fd-35b6-495a-b651-ecd52160c5b0",
   "metadata": {},
   "outputs": [
    {
     "data": {
      "text/plain": [
       "'hsiv'"
      ]
     },
     "execution_count": 51,
     "metadata": {},
     "output_type": "execute_result"
    }
   ],
   "source": [
    "reverse_str('vish')"
   ]
  },
  {
   "cell_type": "code",
   "execution_count": 52,
   "id": "aff00b89-4a25-4bd3-b45b-5441af72e126",
   "metadata": {},
   "outputs": [],
   "source": [
    "# 10 Write a recursive Python function to check if a string is a palindrome.\n"
   ]
  },
  {
   "cell_type": "code",
   "execution_count": 59,
   "id": "79f8a820-3514-45ee-9941-9f050526a12a",
   "metadata": {},
   "outputs": [],
   "source": [
    "def palin_str(s):\n",
    "    if s == 0:\n",
    "        return 0\n",
    "    elif s != s[::-1]:\n",
    "        return 'given string is not palindrom'\n",
    "    else: \n",
    "        return s == s[::-1] , 'string is plaindrom'"
   ]
  },
  {
   "cell_type": "code",
   "execution_count": 60,
   "id": "99343fec-a0e0-482d-9883-894562bae09d",
   "metadata": {},
   "outputs": [
    {
     "data": {
      "text/plain": [
       "(True, 'string is plaindrom')"
      ]
     },
     "execution_count": 60,
     "metadata": {},
     "output_type": "execute_result"
    }
   ],
   "source": [
    "palin_str('radar')"
   ]
  },
  {
   "cell_type": "code",
   "execution_count": 61,
   "id": "6c55d61e-6c17-47fe-8818-74899a8f4d31",
   "metadata": {},
   "outputs": [],
   "source": [
    "# 11 Create a recursive Python function to generate all possible combinations of a list of elements."
   ]
  },
  {
   "cell_type": "code",
   "execution_count": 69,
   "id": "b150ad23-9c1f-4dd2-89c6-57d8a4c7b30b",
   "metadata": {},
   "outputs": [],
   "source": [
    "def max_list(l):\n",
    "    if l == 0:\n",
    "        return 0\n",
    "    else :\n",
    "        return max(l)\n"
   ]
  },
  {
   "cell_type": "code",
   "execution_count": 70,
   "id": "5014d39d-ef6b-44c4-aa45-f11633655caa",
   "metadata": {},
   "outputs": [
    {
     "data": {
      "text/plain": [
       "4"
      ]
     },
     "execution_count": 70,
     "metadata": {},
     "output_type": "execute_result"
    }
   ],
   "source": [
    "max_list([1,2,3,4])"
   ]
  },
  {
   "cell_type": "code",
   "execution_count": 14,
   "id": "88f5cb2a-b143-47eb-82bf-c4d5cc6824f1",
   "metadata": {},
   "outputs": [],
   "source": [
    "# Function Documentation and Best Practices:\n"
   ]
  },
  {
   "cell_type": "code",
   "execution_count": 15,
   "id": "e85ddae8-0c7a-47a5-a720-21906a767fda",
   "metadata": {},
   "outputs": [],
   "source": [
    "# 2. Describe some best practices for naming functions and variables in Python, including naming conventions and guidelines.\n"
   ]
  },
  {
   "cell_type": "code",
   "execution_count": 10,
   "id": "7b7744df-10e3-47fc-8e49-980c86c81663",
   "metadata": {},
   "outputs": [
    {
     "name": "stdout",
     "output_type": "stream",
     "text": [
      "4\n",
      "3\n",
      "2\n",
      "time is over "
     ]
    }
   ],
   "source": [
    "import time \n",
    "s = 4\n",
    "while s >1:\n",
    "    print(s)\n",
    "    time.sleep(1)\n",
    "    s = s-1\n",
    "print('time is over', end = \" \")"
   ]
  },
  {
   "cell_type": "code",
   "execution_count": null,
   "id": "7e211759-46af-4545-92c0-cf7222228977",
   "metadata": {},
   "outputs": [],
   "source": [
    "def s"
   ]
  }
 ],
 "metadata": {
  "kernelspec": {
   "display_name": "Python 3 (ipykernel)",
   "language": "python",
   "name": "python3"
  },
  "language_info": {
   "codemirror_mode": {
    "name": "ipython",
    "version": 3
   },
   "file_extension": ".py",
   "mimetype": "text/x-python",
   "name": "python",
   "nbconvert_exporter": "python",
   "pygments_lexer": "ipython3",
   "version": "3.10.8"
  }
 },
 "nbformat": 4,
 "nbformat_minor": 5
}
